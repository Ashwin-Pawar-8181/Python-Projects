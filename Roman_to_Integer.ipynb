{
  "nbformat": 4,
  "nbformat_minor": 0,
  "metadata": {
    "colab": {
      "provenance": []
    },
    "kernelspec": {
      "name": "python3",
      "display_name": "Python 3"
    },
    "language_info": {
      "name": "python"
    }
  },
  "cells": [
    {
      "cell_type": "markdown",
      "source": [
        "Roman numerals are represented by seven different symbols: I, V, X, L, C, D and M.\n",
        "\n",
        "Symbol       Value\n",
        "I             1\n",
        "V             5\n",
        "X             10\n",
        "L             50\n",
        "C             100\n",
        "D             500\n",
        "M             1000\n",
        "For example, 2 is written as II in Roman numeral, just two ones added together. 12 is written as XII, which is simply X + II. The number 27 is written as XXVII, which is XX + V + II.\n",
        "\n",
        "Roman numerals are usually written largest to smallest from left to right. However, the numeral for four is not IIII. Instead, the number four is written as IV. Because the one is before the five we subtract it making four. The same principle applies to the number nine, which is written as IX. There are six instances where subtraction is used:\n",
        "\n",
        "I can be placed before V (5) and X (10) to make 4 and 9.\n",
        "X can be placed before L (50) and C (100) to make 40 and 90.\n",
        "C can be placed before D (500) and M (1000) to make 400 and 900.\n",
        "Given a roman numeral, convert it to an integer.\n",
        "\n",
        "\n",
        "\n",
        "Example 1:\n",
        "\n",
        "Input: s = \"III\"\n",
        "Output: 3\n",
        "Explanation: III = 3."
      ],
      "metadata": {
        "id": "amzeddCVzRVk"
      }
    },
    {
      "cell_type": "code",
      "source": [
        "I=1\n",
        "V=5\n",
        "X=10\n",
        "L=50\n",
        "C=100\n",
        "D=500\n",
        "M=100\n",
        "\n",
        "roman_number=input(\"Entre any Roman Number with space in between each letter: \")\n",
        "roman_number=roman_number.split()\n",
        "roman_number\n",
        "sum=0\n",
        "for i in range(len(roman_number)):\n",
        "    if roman_number[i]=='I':\n",
        "        sum=sum+1\n",
        "    elif roman_number[i]=='V':\n",
        "        sum=sum+5\n",
        "    elif roman_number[i]=='X':\n",
        "        sum=sum+10\n",
        "    elif roman_number[i]=='L':\n",
        "        sum =sum+50\n",
        "    elif roman_number[i]=='C':\n",
        "        sum=sum+100\n",
        "    elif roman_number[i]=='D':\n",
        "        sum=sum+500\n",
        "    elif roman_number[i]=='M':\n",
        "        sum=sum+1000\n",
        "print(sum)\n"
      ],
      "metadata": {
        "id": "p4CcACAJzfbA",
        "colab": {
          "base_uri": "https://localhost:8080/"
        },
        "outputId": "4e744e80-2e71-44bb-95ef-9e25ed624413"
      },
      "execution_count": null,
      "outputs": [
        {
          "output_type": "stream",
          "name": "stdout",
          "text": [
            "Entre any Roman Number with space in between each letter: V X C\n",
            "115\n"
          ]
        }
      ]
    },
    {
      "cell_type": "code",
      "source": [],
      "metadata": {
        "id": "OaWavlf-7Uz0"
      },
      "execution_count": null,
      "outputs": []
    }
  ]
}