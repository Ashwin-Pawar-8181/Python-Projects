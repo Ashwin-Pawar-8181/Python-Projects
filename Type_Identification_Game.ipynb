{
  "nbformat": 4,
  "nbformat_minor": 0,
  "metadata": {
    "colab": {
      "provenance": []
    },
    "kernelspec": {
      "name": "python3",
      "display_name": "Python 3"
    },
    "language_info": {
      "name": "python"
    }
  },
  "cells": [
    {
      "cell_type": "markdown",
      "source": [
        "# ***Type Identification Game***"
      ],
      "metadata": {
        "id": "xMoFtp0XPH27"
      }
    },
    {
      "cell_type": "code",
      "source": [
        "print(\"Good Mornning Sir/Mam\")\n",
        "Player=input(\"Entre your name please\")\n",
        "print(f\"Welcome to Type Identification Game {Player} \")\n",
        "print(\"Let's Start\")\n",
        "data_type=[\"Ashwin\", 8181, 2.4, True, [1,\"Ash\", ],(1,2,3,4),{1:\"ASH\"}]\n",
        "values = {\n",
        "        int: \"integer\",\n",
        "        float: \"float\",\n",
        "        str: \"string\",\n",
        "        bool: \"boolean\",\n",
        "        list: \"list\",\n",
        "        tuple: \"tuple\",\n",
        "        dict: \"dictionary\"}\n",
        "i=0\n",
        "while i<len(data_type):\n",
        "    user_input=input(f\"Guess the Data Type of the given {data_type[i]}:  \").lower()\n",
        "    actual_type=type(data_type[i])\n",
        "    expected= values[actual_type]\n",
        "    if user_input == expected:\n",
        "        print(f\"Correct!, Data type of {data_type[i]} is {actual_type}\")\n",
        "    else:\n",
        "        print(\"Incorrect! Please try again.\")\n",
        "    i=i+1\n",
        "print(\"Congratulations! You have completed the game.\")\n",
        "\n"
      ],
      "metadata": {
        "colab": {
          "base_uri": "https://localhost:8080/"
        },
        "id": "TESQaP8NzkGT",
        "outputId": "5e0115b5-726c-4f24-afc6-d5232e7293cf"
      },
      "execution_count": null,
      "outputs": [
        {
          "output_type": "stream",
          "name": "stdout",
          "text": [
            "Good Mornning Sir/Mam\n",
            "Entre your name pleaseAshwin\n",
            "Welcome to Type Identification Game Ashwin \n",
            "Let's Start\n",
            "Guess the Data Type of the given Ashwin:  String\n",
            "Correct!, Data type of Ashwin is <class 'str'>\n",
            "Guess the Data Type of the given 8181:  Integeer\n",
            "Incorrect! Please try again.\n",
            "Guess the Data Type of the given 2.4:  Float\n",
            "Correct!, Data type of 2.4 is <class 'float'>\n",
            "Guess the Data Type of the given True:  Boolean\n",
            "Correct!, Data type of True is <class 'bool'>\n",
            "Guess the Data Type of the given [1, 'Ash']:  List\n",
            "Correct!, Data type of [1, 'Ash'] is <class 'list'>\n",
            "Guess the Data Type of the given (1, 2, 3, 4):  Tuple\n",
            "Correct!, Data type of (1, 2, 3, 4) is <class 'tuple'>\n",
            "Guess the Data Type of the given {1: 'ASH'}:  Dictionary\n",
            "Correct!, Data type of {1: 'ASH'} is <class 'dict'>\n",
            "Congratulations! You have completed the game.\n"
          ]
        }
      ]
    },
    {
      "cell_type": "code",
      "source": [],
      "metadata": {
        "id": "3fC1S2kUO5mw"
      },
      "execution_count": null,
      "outputs": []
    }
  ]
}